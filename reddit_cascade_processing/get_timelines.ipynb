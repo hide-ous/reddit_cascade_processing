{
 "cells": [
  {
   "metadata": {
    "ExecuteTime": {
     "end_time": "2025-06-11T12:15:34.053839Z",
     "start_time": "2025-06-11T12:15:34.046331Z"
    }
   },
   "cell_type": "code",
   "source": "import requests",
   "id": "ca1d9e84af1ae864",
   "outputs": [],
   "execution_count": 22
  },
  {
   "metadata": {
    "ExecuteTime": {
     "end_time": "2025-06-11T12:15:34.194815Z",
     "start_time": "2025-06-11T12:15:34.177934Z"
    }
   },
   "cell_type": "code",
   "source": [
    "import time\n",
    "from tqdm import tqdm"
   ],
   "id": "ae91aeb02388776c",
   "outputs": [],
   "execution_count": 23
  },
  {
   "metadata": {
    "ExecuteTime": {
     "end_time": "2025-06-11T12:58:16.860638Z",
     "start_time": "2025-06-11T12:58:16.846622Z"
    }
   },
   "cell_type": "code",
   "source": [
    "import json\n",
    "import os\n",
    "import sys\n",
    "# input_file = '../data/interim/reddit_sci_1_hard_users.json'\n",
    "input_file = '../data/interim/reddit_con_2_hard_users.json'\n",
    "output_directory = '../../data/processed/users'\n",
    "os.makedirs(output_directory, exist_ok=True)\n",
    "# rehydrate_timeline(input_file, output_directory)"
   ],
   "id": "a7595138c61a4c0c",
   "outputs": [],
   "execution_count": 26
  },
  {
   "metadata": {
    "ExecuteTime": {
     "end_time": "2025-06-11T12:58:16.984455Z",
     "start_time": "2025-06-11T12:58:16.961132Z"
    }
   },
   "cell_type": "code",
   "source": [
    "with open(input_file, 'r', encoding='utf-8') as f:\n",
    "    data = json.load(f)"
   ],
   "id": "54b286039b24cbef",
   "outputs": [],
   "execution_count": 27
  },
  {
   "metadata": {
    "ExecuteTime": {
     "end_time": "2025-06-11T12:58:17.108152Z",
     "start_time": "2025-06-11T12:58:17.102639Z"
    }
   },
   "cell_type": "code",
   "source": "data[0]",
   "id": "2d4838a8a97fe83d",
   "outputs": [
    {
     "data": {
      "text/plain": [
       "{'user_id': 9204,\n",
       " 'user_name': 'ineedtofartbad',\n",
       " 'true_occurrences': 10,\n",
       " 'avg_rank_when_true': 22073.1,\n",
       " 'avg_score_when_true': -10.186451148986816,\n",
       " 'hit_rates_at_k': {'10': 0.0, '50': 0.0, '100': 0.0}}"
      ]
     },
     "execution_count": 28,
     "metadata": {},
     "output_type": "execute_result"
    }
   ],
   "execution_count": 28
  },
  {
   "metadata": {
    "ExecuteTime": {
     "end_time": "2025-06-11T12:58:17.796999Z",
     "start_time": "2025-06-11T12:58:17.783907Z"
    }
   },
   "cell_type": "code",
   "source": "len(data)",
   "id": "741144988891717c",
   "outputs": [
    {
     "data": {
      "text/plain": [
       "4317"
      ]
     },
     "execution_count": 29,
     "metadata": {},
     "output_type": "execute_result"
    }
   ],
   "execution_count": 29
  },
  {
   "metadata": {
    "ExecuteTime": {
     "end_time": "2025-06-11T12:58:18.762585Z",
     "start_time": "2025-06-11T12:58:18.752441Z"
    }
   },
   "cell_type": "code",
   "source": "usernames = [i['user_name'] for i in data]",
   "id": "4e1919fa51970e23",
   "outputs": [],
   "execution_count": 30
  },
  {
   "metadata": {
    "jupyter": {
     "is_executing": true
    },
    "ExecuteTime": {
     "start_time": "2025-06-11T12:58:18.911456Z"
    }
   },
   "cell_type": "code",
   "source": [
    "metas = list()\n",
    "for username in tqdm(usernames):\n",
    "    metas.append(requests.get(f'https://arctic-shift.photon-reddit.com/api/users/search?author={username}').json())\n",
    "    time.sleep(1)"
   ],
   "id": "65ad651cd5842707",
   "outputs": [
    {
     "name": "stderr",
     "output_type": "stream",
     "text": [
      "  0%|          | 14/4317 [00:16<1:22:01,  1.14s/it]"
     ]
    }
   ],
   "execution_count": null
  },
  {
   "metadata": {
    "jupyter": {
     "is_executing": true
    }
   },
   "cell_type": "code",
   "source": [
    "with open('../data/interim/reddit_con_2_hard_users_metas.json', 'w', encoding='utf-8') as f:\n",
    "# with open('../data/interim/reddit_sci_1_hard_users_metas.json', 'w', encoding='utf-8') as f:\n",
    "    json.dump(metas, f)"
   ],
   "id": "1df12260e15ef0a9",
   "outputs": [],
   "execution_count": null
  },
  {
   "metadata": {
    "ExecuteTime": {
     "end_time": "2025-06-11T12:14:12.771547Z",
     "start_time": "2025-06-11T12:13:02.624308Z"
    }
   },
   "cell_type": "code",
   "source": [
    "for username in tqdm(usernames):\n",
    "    for contribution in ['posts', 'comments']:\n",
    "        response = requests.get(f'https://arctic-shift.photon-reddit.com/api/{contribution}/search?author={username}')\n",
    "        output_filename = os.path.join(output_directory, f\"{username}_{contribution}.json\")\n",
    "        with open(output_filename, 'w', encoding='utf-8') as outfile:\n",
    "            json.dump(response.json(), outfile, ensure_ascii=False)\n",
    "        time.sleep(1)\n"
   ],
   "id": "52223c2ad95b82bf",
   "outputs": [
    {
     "name": "stderr",
     "output_type": "stream",
     "text": [
      "\n",
      "KeyboardInterrupt\n",
      "\n"
     ]
    }
   ],
   "execution_count": 20
  },
  {
   "metadata": {},
   "cell_type": "code",
   "outputs": [],
   "execution_count": null,
   "source": [
    "error_count = 0\n",
    "for i, item in enumerate(data):\n",
    "    try:\n",
    "        username = item['user_name']\n",
    "        output_filename = os.path.join(output_directory, f\"{username}.json\")\n",
    "\n",
    "        with open(output_filename, 'w', encoding='utf-8') as outfile:\n",
    "            json.dump({\n",
    "                \"id\": item_id,\n",
    "                \"author\": author,\n",
    "                \"subreddit\": subreddit,\n",
    "                \"created_utc\": created_utc,\n",
    "                \"content\": text_content,\n",
    "                \"permalink\": permalink,\n",
    "                # Add more fields as needed from the 'item' dictionary\n",
    "            }, outfile, indent=2, ensure_ascii=False)\n",
    "\n",
    "    except Exception as e:\n",
    "        print(f\"Error processing item {i+1}: {e}\")\n",
    "        error_count += 1"
   ],
   "id": "a32710e04e2409c8"
  }
 ],
 "metadata": {
  "kernelspec": {
   "display_name": "Python 3",
   "language": "python",
   "name": "python3"
  },
  "language_info": {
   "codemirror_mode": {
    "name": "ipython",
    "version": 2
   },
   "file_extension": ".py",
   "mimetype": "text/x-python",
   "name": "python",
   "nbconvert_exporter": "python",
   "pygments_lexer": "ipython2",
   "version": "2.7.6"
  }
 },
 "nbformat": 4,
 "nbformat_minor": 5
}
